{
    "metadata": {
        "kernelspec": {
            "name": "SQL",
            "display_name": "SQL",
            "language": "sql"
        },
        "language_info": {
            "name": "sql",
            "version": ""
        },
        "extensions": {
            "azuredatastudio": {
                "version": 1,
                "views": []
            }
        }
    },
    "nbformat_minor": 2,
    "nbformat": 4,
    "cells": [
        {
            "cell_type": "markdown",
            "source": [
                "# <span style=\"font-size: 20pt; font-family: Montserrat, sans-serif; color: rgb(92, 148, 206); background-color: rgb(255, 255, 255); font-weight: 700; font-variant-east-asian: normal; vertical-align: baseline; white-space: pre-wrap;\">Graded Assignment 3: 9 to 5</span>\n",
                "\n",
                "  \n",
                "\n",
                "<span style=\"font-size: 10pt; font-family: &quot;Times New Roman&quot;; color: rgb(102, 102, 102); background-color: rgb(255, 255, 255); font-variant-east-asian: normal; vertical-align: baseline; white-space: pre-wrap;\">Time to show off your SQL skills! For each question, copy the SQL query you used and make note of the answer.</span>\n",
                "\n",
                "  \n",
                "\n",
                "## <span style=\"font-size: 12pt; font-family: Montserrat, sans-serif; color: rgb(53, 74, 95); background-color: rgb(255, 255, 255); font-weight: 700; font-variant-east-asian: normal; vertical-align: baseline; white-space: pre-wrap;\">The Dataset</span>\n",
                "\n",
                "<span style=\"font-size: 10pt; font-family: &quot;Times New Roman&quot;; color: rgb(102, 102, 102); background-color: rgb(255, 255, 255); font-variant-east-asian: normal; vertical-align: baseline; white-space: pre-wrap;\">For this assignment, you will be using the Bureau of Labor Statistics (BLS) Current Employment Survey (CES) results which can be found on</span> [<span style=\"font-size: 10pt; font-family: &quot;Times New Roman&quot;; color: rgb(17, 85, 204); background-color: rgb(255, 255, 255); font-variant-east-asian: normal; text-decoration-line: underline; vertical-align: baseline; white-space: pre-wrap;\">Kaggle</span>](https://www.kaggle.com/bls/employment)<span style=\"font-size: 10pt; font-family: &quot;Times New Roman&quot;; color: rgb(102, 102, 102); background-color: rgb(255, 255, 255); font-variant-east-asian: normal; vertical-align: baseline; white-space: pre-wrap;\">.</span>\n",
                "\n",
                "  \n",
                "\n",
                "## <span style=\"font-size: 12pt; font-family: Montserrat, sans-serif; color: rgb(53, 74, 95); background-color: rgb(255, 255, 255); font-weight: 700; font-variant-east-asian: normal; vertical-align: baseline; white-space: pre-wrap;\">Business Issue</span>\n",
                "\n",
                "<span style=\"font-size: 10pt; font-family: &quot;Times New Roman&quot;; color: rgb(102, 102, 102); background-color: rgb(255, 255, 255); font-variant-east-asian: normal; vertical-align: baseline; white-space: pre-wrap;\">You are working for the Bureau of Labor Statistics with the United States government and have been approached by your boss with an important meeting request. You have been asked by your supervisor to meet with Dolly Parton whose nonprofit is looking to shed light on the state of employment in the United States. As part of the 9 to 5 project, their research is focused on production and nonsupervisory employees and how those employees fare compared to all employees in the United States. While the data the BLS collects from the CES is publicly available, Dolly Parton and her colleagues need your assistance navigating the thousands of rows in each table in LaborStatisticsDB.</span>\n",
                "\n",
                "  \n",
                "\n",
                "## <span style=\"font-size: 12pt; font-family: Montserrat, sans-serif; color: rgb(53, 74, 95); background-color: rgb(255, 255, 255); font-weight: 700; font-variant-east-asian: normal; vertical-align: baseline; white-space: pre-wrap;\">About the Dataset</span>\n",
                "\n",
                "<span style=\"font-size: 10pt; font-family: &quot;Times New Roman&quot;; color: rgb(102, 102, 102); background-color: rgb(255, 255, 255); font-variant-east-asian: normal; vertical-align: baseline; white-space: pre-wrap;\">This dataset comes directly from the Bureau of Labor Statistics’ Current Employment Survey (CES). Here are some things you need to know:</span>\n",
                "\n",
                "1. <span style=\"font-size: 10pt; background-color: rgb(255, 255, 255); font-variant-east-asian: normal; vertical-align: baseline; white-space: pre-wrap;\">The industry table contains an NAICS code. This is different from the industry code. NAICS stands for North American Industry Classification System.</span>\n",
                "    \n",
                "2. <span style=\"font-size: 10pt; background-color: rgb(255, 255, 255); font-variant-east-asian: normal; vertical-align: baseline; white-space: pre-wrap;\">Series ID is composed of multiple different codes. CES stands for Current Employment Survey, the name of the survey which collected the data. The industry code as specified by the BLS and the data type code as specified in the datatype table.</span>\n",
                "    \n",
                "\n",
                "  \n",
                "\n",
                "## <span style=\"font-size: 12pt; font-family: Montserrat, sans-serif; color: rgb(53, 74, 95); background-color: rgb(255, 255, 255); font-weight: 700; font-variant-east-asian: normal; vertical-align: baseline; white-space: pre-wrap;\">Set Up</span>\n",
                "\n",
                "<span style=\"font-size: 10pt; font-family: &quot;Times New Roman&quot;; color: rgb(102, 102, 102); background-color: rgb(255, 255, 255); font-variant-east-asian: normal; vertical-align: baseline; white-space: pre-wrap;\">To connect to the database, use the same connection info used during the SQL lessons.&nbsp;</span> \n",
                "\n",
                "<span style=\"font-size: 10pt; font-family: &quot;Times New Roman&quot;; color: rgb(102, 102, 102); background-color: rgb(255, 255, 255); font-variant-east-asian: normal; vertical-align: baseline; white-space: pre-wrap;\">For the assignment, we will be using the LaborStatisticsDB database.</span>\n",
                "\n",
                "  \n",
                "\n",
                "## <span style=\"font-size: 12pt; font-family: Montserrat, sans-serif; color: rgb(53, 74, 95); background-color: rgb(255, 255, 255); font-weight: 700; font-variant-east-asian: normal; vertical-align: baseline; white-space: pre-wrap;\">Database Exploration</span>\n",
                "\n",
                "<span style=\"font-size: 10pt; font-family: &quot;Times New Roman&quot;; color: rgb(102, 102, 102); background-color: rgb(255, 255, 255); font-variant-east-asian: normal; vertical-align: baseline; white-space: pre-wrap;\">To start with, let’s get to know the database further.</span>\n",
                "\n",
                "1. <span style=\"background-color: rgb(255, 255, 255); color: rgb(102, 102, 102); font-family: &quot;Times New Roman&quot;; font-size: 10pt; white-space: pre-wrap;\">Use this space to make note of each table in the database, the columns within each table, each column’s data type, and how the tables are connected. You can write this down or draw a diagram. Whatever method helps you get an understanding of what is going on with LaborStatisticsDB.</span>"
            ],
            "metadata": {
                "azdata_cell_guid": "28ea70c5-f0be-4197-b6c0-ade22886a708"
            },
            "attachments": {}
        },
        {
            "cell_type": "markdown",
            "source": [
                "To add a photo, diagram or document to your file, drop the file into the folder that holds this notebook.  Use the the link button to the right of the  \\</\\> symbol in the gray part of this cell, the link is just the name of your file."
            ],
            "metadata": {
                "azdata_cell_guid": "aeae906c-752c-49d3-b482-3ed6a4f54b6e"
            },
            "attachments": {}
        },
        {
            "cell_type": "code",
            "source": [
                ""
            ],
            "metadata": {
                "azdata_cell_guid": "dbf3633e-8503-49e6-b128-cf010d1558cf",
                "language": "sql"
            },
            "outputs": [
                {
                    "output_type": "display_data",
                    "data": {
                        "text/html": "(5 rows affected)"
                    },
                    "metadata": {}
                },
                {
                    "output_type": "display_data",
                    "data": {
                        "text/html": "Total execution time: 00:00:00.102"
                    },
                    "metadata": {}
                },
                {
                    "output_type": "execute_result",
                    "metadata": {},
                    "execution_count": 53,
                    "data": {
                        "application/vnd.dataresource+json": {
                            "schema": {
                                "fields": [
                                    {
                                        "name": "series_id"
                                    },
                                    {
                                        "name": "supersector_code"
                                    },
                                    {
                                        "name": "industry_code"
                                    },
                                    {
                                        "name": "data_type_code"
                                    },
                                    {
                                        "name": "seasonal"
                                    },
                                    {
                                        "name": "series_title"
                                    }
                                ]
                            },
                            "data": [
                                {
                                    "0": "CES0000000001",
                                    "1": "0",
                                    "2": "00000000",
                                    "3": "1",
                                    "4": "S",
                                    "5": "All employees"
                                },
                                {
                                    "0": "CES0000000010",
                                    "1": "0",
                                    "2": "00000000",
                                    "3": "10",
                                    "4": "S",
                                    "5": "Women employees"
                                },
                                {
                                    "0": "CES0000000025",
                                    "1": "0",
                                    "2": "00000000",
                                    "3": "25",
                                    "4": "S",
                                    "5": "All employees"
                                },
                                {
                                    "0": "CES0000000026",
                                    "1": "0",
                                    "2": "00000000",
                                    "3": "26",
                                    "4": "S",
                                    "5": "All employees"
                                },
                                {
                                    "0": "CES0500000001",
                                    "1": "5",
                                    "2": "05000000",
                                    "3": "1",
                                    "4": "S",
                                    "5": "All employees"
                                }
                            ]
                        },
                        "text/html": [
                            "<table>",
                            "<tr><th>series_id</th><th>supersector_code</th><th>industry_code</th><th>data_type_code</th><th>seasonal</th><th>series_title</th></tr>",
                            "<tr><td>CES0000000001</td><td>0</td><td>00000000</td><td>1</td><td>S</td><td>All employees</td></tr>",
                            "<tr><td>CES0000000010</td><td>0</td><td>00000000</td><td>10</td><td>S</td><td>Women employees</td></tr>",
                            "<tr><td>CES0000000025</td><td>0</td><td>00000000</td><td>25</td><td>S</td><td>All employees</td></tr>",
                            "<tr><td>CES0000000026</td><td>0</td><td>00000000</td><td>26</td><td>S</td><td>All employees</td></tr>",
                            "<tr><td>CES0500000001</td><td>5</td><td>05000000</td><td>1</td><td>S</td><td>All employees</td></tr>",
                            "</table>"
                        ]
                    }
                }
            ],
            "execution_count": 53
        },
        {
            "cell_type": "code",
            "source": [
                "SELECT * FROM LaborStatisticsDB.INFORMATION_SCHEMA.KEY_COLUMN_USAGE\r\n",
                "WHERE TABLE_NAME = N'annual_2016';"
            ],
            "metadata": {
                "azdata_cell_guid": "1e5c9b82-a4d0-4da7-9071-50d0ab3789fc",
                "language": "sql"
            },
            "outputs": [
                {
                    "output_type": "display_data",
                    "data": {
                        "text/html": "(1 row affected)"
                    },
                    "metadata": {}
                },
                {
                    "output_type": "display_data",
                    "data": {
                        "text/html": "Total execution time: 00:00:00.383"
                    },
                    "metadata": {}
                },
                {
                    "output_type": "execute_result",
                    "execution_count": 65,
                    "data": {
                        "application/vnd.dataresource+json": {
                            "schema": {
                                "fields": [
                                    {
                                        "name": "CONSTRAINT_CATALOG"
                                    },
                                    {
                                        "name": "CONSTRAINT_SCHEMA"
                                    },
                                    {
                                        "name": "CONSTRAINT_NAME"
                                    },
                                    {
                                        "name": "TABLE_CATALOG"
                                    },
                                    {
                                        "name": "TABLE_SCHEMA"
                                    },
                                    {
                                        "name": "TABLE_NAME"
                                    },
                                    {
                                        "name": "COLUMN_NAME"
                                    },
                                    {
                                        "name": "ORDINAL_POSITION"
                                    }
                                ]
                            },
                            "data": [
                                {
                                    "0": "LaborStatisticsDB",
                                    "1": "dbo",
                                    "2": "PK_annual_2016",
                                    "3": "LaborStatisticsDB",
                                    "4": "dbo",
                                    "5": "annual_2016",
                                    "6": "id",
                                    "7": "1"
                                }
                            ]
                        },
                        "text/html": "<table><tr><th>CONSTRAINT_CATALOG</th><th>CONSTRAINT_SCHEMA</th><th>CONSTRAINT_NAME</th><th>TABLE_CATALOG</th><th>TABLE_SCHEMA</th><th>TABLE_NAME</th><th>COLUMN_NAME</th><th>ORDINAL_POSITION</th></tr><tr><td>LaborStatisticsDB</td><td>dbo</td><td>PK_annual_2016</td><td>LaborStatisticsDB</td><td>dbo</td><td>annual_2016</td><td>id</td><td>1</td></tr></table>"
                    },
                    "metadata": {}
                }
            ],
            "execution_count": 65
        },
        {
            "cell_type": "code",
            "source": [
                "SELECT TOP 10 * FROM LaborStatisticsDB.dbo.supersector\r\n",
                "WHERE supersector_name like '%financial%'"
            ],
            "metadata": {
                "azdata_cell_guid": "25000963-b1fe-40cc-9f64-37e2b7c8c1d7",
                "language": "sql"
            },
            "outputs": [
                {
                    "output_type": "display_data",
                    "data": {
                        "text/html": "(1 row affected)"
                    },
                    "metadata": {}
                },
                {
                    "output_type": "display_data",
                    "data": {
                        "text/html": "Total execution time: 00:00:00.151"
                    },
                    "metadata": {}
                },
                {
                    "output_type": "execute_result",
                    "execution_count": 66,
                    "data": {
                        "application/vnd.dataresource+json": {
                            "schema": {
                                "fields": [
                                    {
                                        "name": "supersector_code"
                                    },
                                    {
                                        "name": "supersector_name"
                                    }
                                ]
                            },
                            "data": [
                                {
                                    "0": "55",
                                    "1": "Financial activities"
                                }
                            ]
                        },
                        "text/html": "<table><tr><th>supersector_code</th><th>supersector_name</th></tr><tr><td>55</td><td>Financial activities</td></tr></table>"
                    },
                    "metadata": {}
                }
            ],
            "execution_count": 66
        },
        {
            "cell_type": "code",
            "source": [
                "SELECT TOP 10 * FROM LaborStatisticsDB.dbo.industry\r\n",
                "WHERE industry_name like '%bank%'"
            ],
            "metadata": {
                "azdata_cell_guid": "5745d8dc-498e-430c-bdcd-190b8b778de8",
                "language": "sql"
            },
            "outputs": [
                {
                    "output_type": "display_data",
                    "data": {
                        "text/html": "(3 rows affected)"
                    },
                    "metadata": {}
                },
                {
                    "output_type": "display_data",
                    "data": {
                        "text/html": "Total execution time: 00:00:00.140"
                    },
                    "metadata": {}
                },
                {
                    "output_type": "execute_result",
                    "execution_count": 67,
                    "data": {
                        "application/vnd.dataresource+json": {
                            "schema": {
                                "fields": [
                                    {
                                        "name": "id"
                                    },
                                    {
                                        "name": "industry_code"
                                    },
                                    {
                                        "name": "naics_code"
                                    },
                                    {
                                        "name": "publishing_status"
                                    },
                                    {
                                        "name": "industry_name"
                                    },
                                    {
                                        "name": "display_level"
                                    },
                                    {
                                        "name": "selectable"
                                    },
                                    {
                                        "name": "sort_sequence"
                                    }
                                ]
                            },
                            "data": [
                                {
                                    "0": "560",
                                    "1": "55521000",
                                    "2": "521",
                                    "3": "C",
                                    "4": "Monetary authorities - central bank",
                                    "5": "4",
                                    "6": "T",
                                    "7": "561"
                                },
                                {
                                    "0": "563",
                                    "1": "55522110",
                                    "2": "52211",
                                    "3": "A",
                                    "4": "Commercial banking",
                                    "5": "6",
                                    "6": "T",
                                    "7": "564"
                                },
                                {
                                    "0": "770",
                                    "1": "65621991",
                                    "2": "621991",
                                    "3": "C",
                                    "4": "Blood and organ banks",
                                    "5": "7",
                                    "6": "T",
                                    "7": "771"
                                }
                            ]
                        },
                        "text/html": "<table><tr><th>id</th><th>industry_code</th><th>naics_code</th><th>publishing_status</th><th>industry_name</th><th>display_level</th><th>selectable</th><th>sort_sequence</th></tr><tr><td>560</td><td>55521000</td><td>521</td><td>C</td><td>Monetary authorities - central bank</td><td>4</td><td>T</td><td>561</td></tr><tr><td>563</td><td>55522110</td><td>52211</td><td>A</td><td>Commercial banking</td><td>6</td><td>T</td><td>564</td></tr><tr><td>770</td><td>65621991</td><td>621991</td><td>C</td><td>Blood and organ banks</td><td>7</td><td>T</td><td>771</td></tr></table>"
                    },
                    "metadata": {}
                }
            ],
            "execution_count": 67
        },
        {
            "cell_type": "markdown",
            "source": [
                "2. <span style=\"background-color: rgb(255, 255, 255); color: rgb(102, 102, 102); font-family: Arvo, serif; font-size: 10pt; white-space: pre-wrap;\">What is the datatype for women employees?</span>"
            ],
            "metadata": {
                "azdata_cell_guid": "01b111b7-baf1-4617-88bc-cd442826c9c9"
            },
            "attachments": {}
        },
        {
            "cell_type": "code",
            "source": [
                ""
            ],
            "metadata": {
                "azdata_cell_guid": "02fa547c-0bb7-4a40-81c2-f5c05154df04",
                "language": "sql"
            },
            "outputs": [
                {
                    "output_type": "display_data",
                    "data": {
                        "text/html": "Commands completed successfully."
                    },
                    "metadata": {}
                },
                {
                    "output_type": "display_data",
                    "data": {
                        "text/html": "Total execution time: 00:00:00"
                    },
                    "metadata": {}
                }
            ],
            "execution_count": 68
        },
        {
            "cell_type": "markdown",
            "source": [
                "3. <span style=\"background-color: rgb(255, 255, 255); font-size: 10pt; white-space: pre-wrap; color: rgb(102, 102, 102); font-family: Arvo, serif;\">What is the series id for&nbsp; women employees in the commercial banking industry in the financial activities supersector?</span>"
            ],
            "metadata": {
                "azdata_cell_guid": "325f85cc-9545-47b3-b975-3aab6278e4ea"
            },
            "attachments": {}
        },
        {
            "cell_type": "code",
            "source": [
                "SELECT TOP 10 * FROM LaborStatisticsDB.dbo.series\r\n",
                "WHERE supersector_code like '55' AND industry_code like '55522110' AND series_title like 'Women employees'"
            ],
            "metadata": {
                "azdata_cell_guid": "1315af1f-45f8-457d-8bbe-8e9f46303fca",
                "language": "sql"
            },
            "outputs": [
                {
                    "output_type": "display_data",
                    "data": {
                        "text/html": "(2 rows affected)"
                    },
                    "metadata": {}
                },
                {
                    "output_type": "display_data",
                    "data": {
                        "text/html": "Total execution time: 00:00:00.112"
                    },
                    "metadata": {}
                },
                {
                    "output_type": "execute_result",
                    "execution_count": 69,
                    "data": {
                        "application/vnd.dataresource+json": {
                            "schema": {
                                "fields": [
                                    {
                                        "name": "series_id"
                                    },
                                    {
                                        "name": "supersector_code"
                                    },
                                    {
                                        "name": "industry_code"
                                    },
                                    {
                                        "name": "data_type_code"
                                    },
                                    {
                                        "name": "seasonal"
                                    },
                                    {
                                        "name": "series_title"
                                    }
                                ]
                            },
                            "data": [
                                {
                                    "0": "CES5552211010",
                                    "1": "55",
                                    "2": "55522110",
                                    "3": "10",
                                    "4": "S",
                                    "5": "Women employees"
                                },
                                {
                                    "0": "CEU5552211010",
                                    "1": "55",
                                    "2": "55522110",
                                    "3": "10",
                                    "4": "U",
                                    "5": "Women employees"
                                }
                            ]
                        },
                        "text/html": "<table><tr><th>series_id</th><th>supersector_code</th><th>industry_code</th><th>data_type_code</th><th>seasonal</th><th>series_title</th></tr><tr><td>CES5552211010</td><td>55</td><td>55522110</td><td>10</td><td>S</td><td>Women employees</td></tr><tr><td>CEU5552211010</td><td>55</td><td>55522110</td><td>10</td><td>U</td><td>Women employees</td></tr></table>"
                    },
                    "metadata": {}
                }
            ],
            "execution_count": 69
        },
        {
            "cell_type": "markdown",
            "source": [
                "## <span style=\"font-size: 12pt; font-family: Montserrat, sans-serif; color: rgb(53, 74, 95); background-color: rgb(255, 255, 255); font-weight: 700; font-variant-numeric: normal; font-variant-east-asian: normal; vertical-align: baseline; white-space: pre-wrap;\">Join in on the Fun</span>\n",
                "\n",
                "<span style=\"font-size: 10pt; font-family: Arvo, serif; color: rgb(102, 102, 102); background-color: rgb(255, 255, 255); font-variant-numeric: normal; font-variant-east-asian: normal; vertical-align: baseline; white-space: pre-wrap;\">Time to start joining! You can choose the type of join you use, just make sure to make a&nbsp; note!</span>\n",
                "\n",
                "1. <span style=\"background-color: rgb(255, 255, 255); font-size: 10pt; white-space: pre-wrap; color: rgb(102, 102, 102); font-family: Arvo, serif;\">Join&nbsp; annual_2016 with series on series_id. We only want the data in the annual_2016 table to be included in the result.</span>"
            ],
            "metadata": {
                "azdata_cell_guid": "ec1dfc63-ad41-4349-8c26-1d326ace8c6c"
            },
            "attachments": {}
        },
        {
            "cell_type": "code",
            "source": [
                "SELECT TOP 5 * FROM LaborStatisticsDB.dbo.annual_2016 AS a\r\n",
                "LEFT JOIN LaborStatisticsDB.dbo.series AS s\r\n",
                "ON a.series_id = s.series_id"
            ],
            "metadata": {
                "azdata_cell_guid": "cf90f0b4-c482-4fbb-ac17-d2244881caab",
                "language": "sql"
            },
            "outputs": [
                {
                    "output_type": "display_data",
                    "data": {
                        "text/html": "(5 rows affected)"
                    },
                    "metadata": {}
                },
                {
                    "output_type": "display_data",
                    "data": {
                        "text/html": "Total execution time: 00:00:00.385"
                    },
                    "metadata": {}
                },
                {
                    "output_type": "execute_result",
                    "execution_count": 70,
                    "data": {
                        "application/vnd.dataresource+json": {
                            "schema": {
                                "fields": [
                                    {
                                        "name": "id"
                                    },
                                    {
                                        "name": "series_id"
                                    },
                                    {
                                        "name": "year"
                                    },
                                    {
                                        "name": "period"
                                    },
                                    {
                                        "name": "value"
                                    },
                                    {
                                        "name": "footnote_codes"
                                    },
                                    {
                                        "name": "original_file"
                                    },
                                    {
                                        "name": "series_id"
                                    },
                                    {
                                        "name": "supersector_code"
                                    },
                                    {
                                        "name": "industry_code"
                                    },
                                    {
                                        "name": "data_type_code"
                                    },
                                    {
                                        "name": "seasonal"
                                    },
                                    {
                                        "name": "series_title"
                                    }
                                ]
                            },
                            "data": [
                                {
                                    "0": "0",
                                    "1": "CEU5500000007",
                                    "2": "2016",
                                    "3": "M13",
                                    "4": "36.9",
                                    "5": "NULL",
                                    "6": "ce.data.55c.FinancialActivities.ProductionEmployeeHoursAndEarnings.csv",
                                    "7": "CEU5500000007",
                                    "8": "55",
                                    "9": "55000000",
                                    "10": "7",
                                    "11": "U",
                                    "12": "Average weekly hours of production and nonsupervisory employees"
                                },
                                {
                                    "0": "1",
                                    "1": "CEU5500000008",
                                    "2": "2016",
                                    "3": "M13",
                                    "4": "26.11",
                                    "5": "NULL",
                                    "6": "ce.data.55c.FinancialActivities.ProductionEmployeeHoursAndEarnings.csv",
                                    "7": "CEU5500000008",
                                    "8": "55",
                                    "9": "55000000",
                                    "10": "8",
                                    "11": "U",
                                    "12": "Average hourly earnings of production and nonsupervisory employees"
                                },
                                {
                                    "0": "2",
                                    "1": "CEU5500000030",
                                    "2": "2016",
                                    "3": "M13",
                                    "4": "962.73",
                                    "5": "NULL",
                                    "6": "ce.data.55c.FinancialActivities.ProductionEmployeeHoursAndEarnings.csv",
                                    "7": "CEU5500000030",
                                    "8": "55",
                                    "9": "55000000",
                                    "10": "30",
                                    "11": "U",
                                    "12": "Average weekly earnings of production and nonsupervisory employees"
                                },
                                {
                                    "0": "3",
                                    "1": "CEU5500000031",
                                    "2": "2016",
                                    "3": "M13",
                                    "4": "411.29",
                                    "5": "NULL",
                                    "6": "ce.data.55c.FinancialActivities.ProductionEmployeeHoursAndEarnings.csv",
                                    "7": "CEU5500000031",
                                    "8": "55",
                                    "9": "55000000",
                                    "10": "31",
                                    "11": "U",
                                    "12": "Average weekly earnings of production and nonsupervisory employees"
                                },
                                {
                                    "0": "4",
                                    "1": "CEU5500000032",
                                    "2": "2016",
                                    "3": "M13",
                                    "4": "11.15",
                                    "5": "NULL",
                                    "6": "ce.data.55c.FinancialActivities.ProductionEmployeeHoursAndEarnings.csv",
                                    "7": "CEU5500000032",
                                    "8": "55",
                                    "9": "55000000",
                                    "10": "32",
                                    "11": "U",
                                    "12": "Average hourly earnings of production and nonsupervisory employees"
                                }
                            ]
                        },
                        "text/html": "<table><tr><th>id</th><th>series_id</th><th>year</th><th>period</th><th>value</th><th>footnote_codes</th><th>original_file</th><th>series_id</th><th>supersector_code</th><th>industry_code</th><th>data_type_code</th><th>seasonal</th><th>series_title</th></tr><tr><td>0</td><td>CEU5500000007</td><td>2016</td><td>M13</td><td>36.9</td><td>NULL</td><td>ce.data.55c.FinancialActivities.ProductionEmployeeHoursAndEarnings.csv</td><td>CEU5500000007</td><td>55</td><td>55000000</td><td>7</td><td>U</td><td>Average weekly hours of production and nonsupervisory employees</td></tr><tr><td>1</td><td>CEU5500000008</td><td>2016</td><td>M13</td><td>26.11</td><td>NULL</td><td>ce.data.55c.FinancialActivities.ProductionEmployeeHoursAndEarnings.csv</td><td>CEU5500000008</td><td>55</td><td>55000000</td><td>8</td><td>U</td><td>Average hourly earnings of production and nonsupervisory employees</td></tr><tr><td>2</td><td>CEU5500000030</td><td>2016</td><td>M13</td><td>962.73</td><td>NULL</td><td>ce.data.55c.FinancialActivities.ProductionEmployeeHoursAndEarnings.csv</td><td>CEU5500000030</td><td>55</td><td>55000000</td><td>30</td><td>U</td><td>Average weekly earnings of production and nonsupervisory employees</td></tr><tr><td>3</td><td>CEU5500000031</td><td>2016</td><td>M13</td><td>411.29</td><td>NULL</td><td>ce.data.55c.FinancialActivities.ProductionEmployeeHoursAndEarnings.csv</td><td>CEU5500000031</td><td>55</td><td>55000000</td><td>31</td><td>U</td><td>Average weekly earnings of production and nonsupervisory employees</td></tr><tr><td>4</td><td>CEU5500000032</td><td>2016</td><td>M13</td><td>11.15</td><td>NULL</td><td>ce.data.55c.FinancialActivities.ProductionEmployeeHoursAndEarnings.csv</td><td>CEU5500000032</td><td>55</td><td>55000000</td><td>32</td><td>U</td><td>Average hourly earnings of production and nonsupervisory employees</td></tr></table>"
                    },
                    "metadata": {}
                }
            ],
            "execution_count": 70
        },
        {
            "cell_type": "markdown",
            "source": [
                "2. <span style=\"background-color: rgb(255, 255, 255); font-size: 10pt; white-space: pre-wrap; color: rgb(102, 102, 102); font-family: Arvo, serif;\">Join series and datatype on data_type_code</span>"
            ],
            "metadata": {
                "azdata_cell_guid": "710b59ae-224b-4f9d-b1a4-4a6b89048bbb"
            },
            "attachments": {}
        },
        {
            "cell_type": "code",
            "source": [
                "SELECT TOP 5 * FROM LaborStatisticsDB.dbo.datatype AS d\r\n",
                "LEFT JOIN LaborStatisticsDB.dbo.series AS s\r\n",
                "ON d.data_type_code = s.data_type_code"
            ],
            "metadata": {
                "azdata_cell_guid": "fca61371-c9b5-4823-a4b4-34c1279ece3e",
                "language": "sql"
            },
            "outputs": [
                {
                    "output_type": "display_data",
                    "data": {
                        "text/html": "(5 rows affected)"
                    },
                    "metadata": {}
                },
                {
                    "output_type": "display_data",
                    "data": {
                        "text/html": "Total execution time: 00:00:00.144"
                    },
                    "metadata": {}
                },
                {
                    "output_type": "execute_result",
                    "execution_count": 71,
                    "data": {
                        "application/vnd.dataresource+json": {
                            "schema": {
                                "fields": [
                                    {
                                        "name": "data_type_code"
                                    },
                                    {
                                        "name": "data_type_text"
                                    },
                                    {
                                        "name": "series_id"
                                    },
                                    {
                                        "name": "supersector_code"
                                    },
                                    {
                                        "name": "industry_code"
                                    },
                                    {
                                        "name": "data_type_code"
                                    },
                                    {
                                        "name": "seasonal"
                                    },
                                    {
                                        "name": "series_title"
                                    }
                                ]
                            },
                            "data": [
                                {
                                    "0": "1",
                                    "1": "ALL EMPLOYEES",
                                    "2": "CES0000000001",
                                    "3": "0",
                                    "4": "00000000",
                                    "5": "1",
                                    "6": "S",
                                    "7": "All employees"
                                },
                                {
                                    "0": "1",
                                    "1": "ALL EMPLOYEES",
                                    "2": "CES0500000001",
                                    "3": "5",
                                    "4": "05000000",
                                    "5": "1",
                                    "6": "S",
                                    "7": "All employees"
                                },
                                {
                                    "0": "1",
                                    "1": "ALL EMPLOYEES",
                                    "2": "CES0600000001",
                                    "3": "6",
                                    "4": "06000000",
                                    "5": "1",
                                    "6": "S",
                                    "7": "All employees"
                                },
                                {
                                    "0": "1",
                                    "1": "ALL EMPLOYEES",
                                    "2": "CES0700000001",
                                    "3": "7",
                                    "4": "07000000",
                                    "5": "1",
                                    "6": "S",
                                    "7": "All employees"
                                },
                                {
                                    "0": "1",
                                    "1": "ALL EMPLOYEES",
                                    "2": "CES0800000001",
                                    "3": "8",
                                    "4": "08000000",
                                    "5": "1",
                                    "6": "S",
                                    "7": "All employees"
                                }
                            ]
                        },
                        "text/html": "<table><tr><th>data_type_code</th><th>data_type_text</th><th>series_id</th><th>supersector_code</th><th>industry_code</th><th>data_type_code</th><th>seasonal</th><th>series_title</th></tr><tr><td>1</td><td>ALL EMPLOYEES</td><td>CES0000000001</td><td>0</td><td>00000000</td><td>1</td><td>S</td><td>All employees</td></tr><tr><td>1</td><td>ALL EMPLOYEES</td><td>CES0500000001</td><td>5</td><td>05000000</td><td>1</td><td>S</td><td>All employees</td></tr><tr><td>1</td><td>ALL EMPLOYEES</td><td>CES0600000001</td><td>6</td><td>06000000</td><td>1</td><td>S</td><td>All employees</td></tr><tr><td>1</td><td>ALL EMPLOYEES</td><td>CES0700000001</td><td>7</td><td>07000000</td><td>1</td><td>S</td><td>All employees</td></tr><tr><td>1</td><td>ALL EMPLOYEES</td><td>CES0800000001</td><td>8</td><td>08000000</td><td>1</td><td>S</td><td>All employees</td></tr></table>"
                    },
                    "metadata": {}
                }
            ],
            "execution_count": 71
        },
        {
            "cell_type": "markdown",
            "source": [
                "3. <span style=\"background-color: rgb(255, 255, 255); font-size: 10pt; white-space: pre-wrap; color: rgb(102, 102, 102); font-family: Arvo, serif;\">Join series and industry on industry_code</span>"
            ],
            "metadata": {
                "azdata_cell_guid": "78ac8ba4-2a6a-426f-af30-6b56d9d09054"
            },
            "attachments": {}
        },
        {
            "cell_type": "code",
            "source": [
                "SELECT TOP 5 * FROM LaborStatisticsDB.dbo.industry AS ins\r\n",
                "LEFT JOIN LaborStatisticsDB.dbo.series AS s\r\n",
                "ON ins.industry_code = s.industry_code"
            ],
            "metadata": {
                "azdata_cell_guid": "ac022766-e280-4d95-8362-1f2b18773662",
                "language": "sql"
            },
            "outputs": [
                {
                    "output_type": "display_data",
                    "data": {
                        "text/html": "(5 rows affected)"
                    },
                    "metadata": {}
                },
                {
                    "output_type": "display_data",
                    "data": {
                        "text/html": "Total execution time: 00:00:00.159"
                    },
                    "metadata": {}
                },
                {
                    "output_type": "execute_result",
                    "execution_count": 72,
                    "data": {
                        "application/vnd.dataresource+json": {
                            "schema": {
                                "fields": [
                                    {
                                        "name": "id"
                                    },
                                    {
                                        "name": "industry_code"
                                    },
                                    {
                                        "name": "naics_code"
                                    },
                                    {
                                        "name": "publishing_status"
                                    },
                                    {
                                        "name": "industry_name"
                                    },
                                    {
                                        "name": "display_level"
                                    },
                                    {
                                        "name": "selectable"
                                    },
                                    {
                                        "name": "sort_sequence"
                                    },
                                    {
                                        "name": "series_id"
                                    },
                                    {
                                        "name": "supersector_code"
                                    },
                                    {
                                        "name": "industry_code"
                                    },
                                    {
                                        "name": "data_type_code"
                                    },
                                    {
                                        "name": "seasonal"
                                    },
                                    {
                                        "name": "series_title"
                                    }
                                ]
                            },
                            "data": [
                                {
                                    "0": "0",
                                    "1": "0",
                                    "2": "-",
                                    "3": "B",
                                    "4": "Total nonfarm",
                                    "5": "0",
                                    "6": "T",
                                    "7": "1",
                                    "8": "CES0000000001",
                                    "9": "0",
                                    "10": "00000000",
                                    "11": "1",
                                    "12": "S",
                                    "13": "All employees"
                                },
                                {
                                    "0": "0",
                                    "1": "0",
                                    "2": "-",
                                    "3": "B",
                                    "4": "Total nonfarm",
                                    "5": "0",
                                    "6": "T",
                                    "7": "1",
                                    "8": "CES0000000010",
                                    "9": "0",
                                    "10": "00000000",
                                    "11": "10",
                                    "12": "S",
                                    "13": "Women employees"
                                },
                                {
                                    "0": "0",
                                    "1": "0",
                                    "2": "-",
                                    "3": "B",
                                    "4": "Total nonfarm",
                                    "5": "0",
                                    "6": "T",
                                    "7": "1",
                                    "8": "CES0000000025",
                                    "9": "0",
                                    "10": "00000000",
                                    "11": "25",
                                    "12": "S",
                                    "13": "All employees"
                                },
                                {
                                    "0": "0",
                                    "1": "0",
                                    "2": "-",
                                    "3": "B",
                                    "4": "Total nonfarm",
                                    "5": "0",
                                    "6": "T",
                                    "7": "1",
                                    "8": "CES0000000026",
                                    "9": "0",
                                    "10": "00000000",
                                    "11": "26",
                                    "12": "S",
                                    "13": "All employees"
                                },
                                {
                                    "0": "0",
                                    "1": "0",
                                    "2": "-",
                                    "3": "B",
                                    "4": "Total nonfarm",
                                    "5": "0",
                                    "6": "T",
                                    "7": "1",
                                    "8": "CEU0000000001",
                                    "9": "0",
                                    "10": "00000000",
                                    "11": "1",
                                    "12": "U",
                                    "13": "All employees"
                                }
                            ]
                        },
                        "text/html": "<table><tr><th>id</th><th>industry_code</th><th>naics_code</th><th>publishing_status</th><th>industry_name</th><th>display_level</th><th>selectable</th><th>sort_sequence</th><th>series_id</th><th>supersector_code</th><th>industry_code</th><th>data_type_code</th><th>seasonal</th><th>series_title</th></tr><tr><td>0</td><td>0</td><td>-</td><td>B</td><td>Total nonfarm</td><td>0</td><td>T</td><td>1</td><td>CES0000000001</td><td>0</td><td>00000000</td><td>1</td><td>S</td><td>All employees</td></tr><tr><td>0</td><td>0</td><td>-</td><td>B</td><td>Total nonfarm</td><td>0</td><td>T</td><td>1</td><td>CES0000000010</td><td>0</td><td>00000000</td><td>10</td><td>S</td><td>Women employees</td></tr><tr><td>0</td><td>0</td><td>-</td><td>B</td><td>Total nonfarm</td><td>0</td><td>T</td><td>1</td><td>CES0000000025</td><td>0</td><td>00000000</td><td>25</td><td>S</td><td>All employees</td></tr><tr><td>0</td><td>0</td><td>-</td><td>B</td><td>Total nonfarm</td><td>0</td><td>T</td><td>1</td><td>CES0000000026</td><td>0</td><td>00000000</td><td>26</td><td>S</td><td>All employees</td></tr><tr><td>0</td><td>0</td><td>-</td><td>B</td><td>Total nonfarm</td><td>0</td><td>T</td><td>1</td><td>CEU0000000001</td><td>0</td><td>00000000</td><td>1</td><td>U</td><td>All employees</td></tr></table>"
                    },
                    "metadata": {}
                }
            ],
            "execution_count": 72
        },
        {
            "cell_type": "markdown",
            "source": [
                "## <span style=\"font-size: 12pt; font-family: Montserrat, sans-serif; color: rgb(53, 74, 95); background-color: rgb(255, 255, 255); font-weight: 700; font-variant-numeric: normal; font-variant-east-asian: normal; vertical-align: baseline; white-space: pre-wrap;\">Aggregate Your Friends and Code some SQL</span>\n",
                "\n",
                "<span style=\"font-size: 10pt; font-family: Arvo, serif; color: rgb(102, 102, 102); background-color: rgb(255, 255, 255); font-variant-numeric: normal; font-variant-east-asian: normal; vertical-align: baseline; white-space: pre-wrap;\">Put together the following:</span>\n",
                "\n",
                "1. <span style=\"background-color: rgb(255, 255, 255); font-size: 10pt; white-space: pre-wrap; color: rgb(102, 102, 102); font-family: Arvo, serif;\">How many employees were reported in 2016 in all industries? Round to the nearest whole number.&nbsp; No chopping people into little bits, please.</span>"
            ],
            "metadata": {
                "azdata_cell_guid": "f4290cc1-f824-4586-8850-59d926bf4460"
            },
            "attachments": {}
        },
        {
            "cell_type": "code",
            "source": [
                "SELECT TOP 5 SUM(a.value) AS \"total employees (thousands)\", s.series_title FROM LaborStatisticsDB.dbo.annual_2016 AS a\r\n",
                "LEFT JOIN LaborStatisticsDB.dbo.series AS s\r\n",
                "ON a.series_id = s.series_id\r\n",
                "WHERE s.series_title like 'All employees'\r\n",
                "GROUP BY s.series_title\r\n",
                "\r\n",
                "----but is this right?? also how do I round it:("
            ],
            "metadata": {
                "azdata_cell_guid": "5c3b0d8e-5d88-41f0-b5b0-d6861b38b380",
                "language": "sql"
            },
            "outputs": [
                {
                    "output_type": "display_data",
                    "data": {
                        "text/html": "(1 row affected)"
                    },
                    "metadata": {}
                },
                {
                    "output_type": "display_data",
                    "data": {
                        "text/html": "Total execution time: 00:00:00.258"
                    },
                    "metadata": {}
                },
                {
                    "output_type": "execute_result",
                    "execution_count": 107,
                    "data": {
                        "application/vnd.dataresource+json": {
                            "schema": {
                                "fields": [
                                    {
                                        "name": "total employees (thousands)"
                                    },
                                    {
                                        "name": "series_title"
                                    }
                                ]
                            },
                            "data": [
                                {
                                    "0": "2340612.2000000016",
                                    "1": "All employees"
                                }
                            ]
                        },
                        "text/html": "<table><tr><th>total employees (thousands)</th><th>series_title</th></tr><tr><td>2340612.2000000016</td><td>All employees</td></tr></table>"
                    },
                    "metadata": {}
                }
            ],
            "execution_count": 107
        },
        {
            "cell_type": "markdown",
            "source": [
                "2. <span style=\"background-color: rgb(255, 255, 255); font-size: 10pt; white-space: pre-wrap; color: rgb(102, 102, 102); font-family: Arvo, serif;\">How many women employees were reported in 2016 in all industries? Round to the nearest whole number.&nbsp;</span>"
            ],
            "metadata": {
                "azdata_cell_guid": "6358fab4-b933-4646-bef1-4be66dcd4317"
            },
            "attachments": {}
        },
        {
            "cell_type": "code",
            "source": [
                "SELECT TOP 5 SUM(a.value) AS \"Women employees (thousands)\", s.series_title FROM LaborStatisticsDB.dbo.annual_2016 AS a\r\n",
                "LEFT JOIN LaborStatisticsDB.dbo.series AS s\r\n",
                "ON a.series_id = s.series_id\r\n",
                "WHERE s.series_title like 'Women employees'\r\n",
                "GROUP BY s.series_title"
            ],
            "metadata": {
                "azdata_cell_guid": "7bb0bfb7-b9e3-4672-b354-7ca705bb0c3b",
                "language": "sql"
            },
            "outputs": [
                {
                    "output_type": "display_data",
                    "data": {
                        "text/html": "(1 row affected)"
                    },
                    "metadata": {}
                },
                {
                    "output_type": "display_data",
                    "data": {
                        "text/html": "Total execution time: 00:00:00.195"
                    },
                    "metadata": {}
                },
                {
                    "output_type": "execute_result",
                    "metadata": {},
                    "execution_count": 39,
                    "data": {
                        "application/vnd.dataresource+json": {
                            "schema": {
                                "fields": [
                                    {
                                        "name": "Women employees (thousands)"
                                    },
                                    {
                                        "name": "series_title"
                                    }
                                ]
                            },
                            "data": [
                                {
                                    "0": "1125489.6000000008",
                                    "1": "Women employees"
                                }
                            ]
                        },
                        "text/html": [
                            "<table>",
                            "<tr><th>Women employees (thousands)</th><th>series_title</th></tr>",
                            "<tr><td>1125489.6000000008</td><td>Women employees</td></tr>",
                            "</table>"
                        ]
                    }
                }
            ],
            "execution_count": 39
        },
        {
            "cell_type": "markdown",
            "source": [
                "3. <span style=\"background-color: rgb(255, 255, 255); font-size: 10pt; white-space: pre-wrap; color: rgb(102, 102, 102); font-family: Arvo, serif;\">How many production/nonsupervisory employees were reported in 2016? Round to the nearest whole number.&nbsp;</span>"
            ],
            "metadata": {
                "azdata_cell_guid": "246ea683-2075-4337-878d-fbfdd49b2dd7"
            },
            "attachments": {}
        },
        {
            "cell_type": "code",
            "source": [
                "SELECT TOP 5 SUM(a.value) AS \"Production and nonsupervisory employees (thousands)\", s.series_title FROM LaborStatisticsDB.dbo.annual_2016 AS a\r\n",
                "LEFT JOIN LaborStatisticsDB.dbo.series AS s\r\n",
                "ON a.series_id = s.series_id\r\n",
                "WHERE s.series_title like 'Production and nonsupervisory employees'\r\n",
                "GROUP BY s.series_title\r\n",
                ""
            ],
            "metadata": {
                "azdata_cell_guid": "110f2591-069b-4bbe-87c7-2bcf76c3d36f",
                "language": "sql"
            },
            "outputs": [
                {
                    "output_type": "display_data",
                    "data": {
                        "text/html": "(1 row affected)"
                    },
                    "metadata": {}
                },
                {
                    "output_type": "display_data",
                    "data": {
                        "text/html": "Total execution time: 00:00:00.119"
                    },
                    "metadata": {}
                },
                {
                    "output_type": "execute_result",
                    "metadata": {},
                    "execution_count": 38,
                    "data": {
                        "application/vnd.dataresource+json": {
                            "schema": {
                                "fields": [
                                    {
                                        "name": "Production and nonsupervisory employees (thousands)"
                                    },
                                    {
                                        "name": "series_title"
                                    }
                                ]
                            },
                            "data": [
                                {
                                    "0": "1263649.6000000008",
                                    "1": "Production and nonsupervisory employees"
                                }
                            ]
                        },
                        "text/html": [
                            "<table>",
                            "<tr><th>Production and nonsupervisory employees (thousands)</th><th>series_title</th></tr>",
                            "<tr><td>1263649.6000000008</td><td>Production and nonsupervisory employees</td></tr>",
                            "</table>"
                        ]
                    }
                }
            ],
            "execution_count": 38
        },
        {
            "cell_type": "markdown",
            "source": [
                "4. <span style=\"background-color: rgb(255, 255, 255); font-size: 10pt; white-space: pre-wrap; color: rgb(102, 102, 102); font-family: Arvo, serif;\">In January 2017, what is the average weekly hours worked by production and nonsupervisory employees across all industries?</span>"
            ],
            "metadata": {
                "azdata_cell_guid": "9caa7f57-e39d-4b7a-b705-25f8fe29d60b"
            },
            "attachments": {}
        },
        {
            "cell_type": "code",
            "source": [
                "SELECT TOP 5 avg(a.value) AS 'average weekly hours worked by production and nonsupervisory employees', s.series_title FROM LaborStatisticsDB.dbo.annual_2016 AS a\r\n",
                "LEFT JOIN LaborStatisticsDB.dbo.series AS s\r\n",
                "ON a.series_id = s.series_id\r\n",
                "WHERE s.series_title like '%Average weekly earnings of production%'\r\n",
                "GROUP BY s.series_title\r\n",
                "--- use avg function and also, specify hours because it's giving you earnings too"
            ],
            "metadata": {
                "azdata_cell_guid": "9f07fa8a-4217-439a-a9cd-831240d4bc9e",
                "language": "sql"
            },
            "outputs": [
                {
                    "output_type": "display_data",
                    "data": {
                        "text/html": "(1 row affected)"
                    },
                    "metadata": {}
                },
                {
                    "output_type": "display_data",
                    "data": {
                        "text/html": "Total execution time: 00:00:00.376"
                    },
                    "metadata": {}
                },
                {
                    "output_type": "execute_result",
                    "metadata": {},
                    "execution_count": 43,
                    "data": {
                        "application/vnd.dataresource+json": {
                            "schema": {
                                "fields": [
                                    {
                                        "name": "average weekly hours worked by production and nonsupervisory employees"
                                    },
                                    {
                                        "name": "series_title"
                                    }
                                ]
                            },
                            "data": [
                                {
                                    "0": "523.2215063520862",
                                    "1": "Average weekly earnings of production and nonsupervisory employees"
                                }
                            ]
                        },
                        "text/html": [
                            "<table>",
                            "<tr><th>average weekly hours worked by production and nonsupervisory employees</th><th>series_title</th></tr>",
                            "<tr><td>523.2215063520862</td><td>Average weekly earnings of production and nonsupervisory employees</td></tr>",
                            "</table>"
                        ]
                    }
                }
            ],
            "execution_count": 43
        },
        {
            "cell_type": "markdown",
            "source": [
                "5. <span style=\"background-color: rgb(255, 255, 255); font-size: 10pt; white-space: pre-wrap; color: rgb(102, 102, 102); font-family: Arvo, serif;\">What is the total weekly payroll for production and nonsupervisory employees across all industries in January 2017? Round to the nearest penny, please.</span>"
            ],
            "metadata": {
                "azdata_cell_guid": "9c48ff2e-a6eb-4f02-8df2-988e219fbc00"
            },
            "attachments": {}
        },
        {
            "cell_type": "code",
            "source": [
                "SELECT TOP 5 SUM(a.value) as \"total weekly payroll for P&NS employees, thousands\", s.series_title FROM LaborStatisticsDB.dbo.annual_2016 AS a\r\n",
                "LEFT JOIN LaborStatisticsDB.dbo.series AS s\r\n",
                "ON a.series_id = s.series_id\r\n",
                "WHERE s.series_title like 'aggregate weekly payrolls of production%'\r\n",
                "GROUP BY series_title\r\n",
                ""
            ],
            "metadata": {
                "azdata_cell_guid": "c565641b-f1fa-4dbb-9320-24adfda97ca5",
                "language": "sql"
            },
            "outputs": [
                {
                    "output_type": "display_data",
                    "data": {
                        "text/html": "(1 row affected)"
                    },
                    "metadata": {}
                },
                {
                    "output_type": "display_data",
                    "data": {
                        "text/html": "Total execution time: 00:00:00.134"
                    },
                    "metadata": {}
                },
                {
                    "output_type": "execute_result",
                    "metadata": {},
                    "execution_count": 46,
                    "data": {
                        "application/vnd.dataresource+json": {
                            "schema": {
                                "fields": [
                                    {
                                        "name": "total weekly payroll for P&amp;NS employees, thousands"
                                    },
                                    {
                                        "name": "series_title"
                                    }
                                ]
                            },
                            "data": [
                                {
                                    "0": "903596300",
                                    "1": "Aggregate weekly payrolls of production and nonsupervisory employees"
                                }
                            ]
                        },
                        "text/html": [
                            "<table>",
                            "<tr><th>total weekly payroll for P&amp;NS employees, thousands</th><th>series_title</th></tr>",
                            "<tr><td>903596300</td><td>Aggregate weekly payrolls of production and nonsupervisory employees</td></tr>",
                            "</table>"
                        ]
                    }
                }
            ],
            "execution_count": 46
        },
        {
            "cell_type": "markdown",
            "source": [
                "6. <span style=\"background-color: rgb(255, 255, 255); font-size: 10pt; white-space: pre-wrap; color: rgb(102, 102, 102); font-family: Arvo, serif;\">In January 2017, which industry was the average weekly hours worked by production and nonsupervisory employees the highest? Which industry was the lowest?</span>"
            ],
            "metadata": {
                "azdata_cell_guid": "862fd406-4fff-49bb-9d2b-232275a06405"
            },
            "attachments": {}
        },
        {
            "cell_type": "code",
            "source": [
                "SELECT TOP 5 j.id, j.series_id, j.value, s.series_title, j.period FROM LaborStatisticsDB.dbo.january_2017 AS j\r\n",
                "LEFT JOIN LaborStatisticsDB.dbo.series AS s\r\n",
                "ON j.series_id = s.series_id\r\n",
                "WHERE s.series_title like '%Average weekly hours of production%'\r\n",
                "ORDER BY j.value ASC"
            ],
            "metadata": {
                "azdata_cell_guid": "01e11050-5f2f-4d22-92e0-2b3024b80a5f",
                "language": "sql"
            },
            "outputs": [
                {
                    "output_type": "display_data",
                    "data": {
                        "text/html": "(5 rows affected)"
                    },
                    "metadata": {}
                },
                {
                    "output_type": "display_data",
                    "data": {
                        "text/html": "Total execution time: 00:00:00.532"
                    },
                    "metadata": {}
                },
                {
                    "output_type": "execute_result",
                    "execution_count": 129,
                    "data": {
                        "application/vnd.dataresource+json": {
                            "schema": {
                                "fields": [
                                    {
                                        "name": "id"
                                    },
                                    {
                                        "name": "series_id"
                                    },
                                    {
                                        "name": "value"
                                    },
                                    {
                                        "name": "series_title"
                                    },
                                    {
                                        "name": "period"
                                    }
                                ]
                            },
                            "data": [
                                {
                                    "0": "43821",
                                    "1": "CEU7071394007",
                                    "2": "16.7",
                                    "3": "Average weekly hours of production and nonsupervisory employees",
                                    "4": "M01"
                                },
                                {
                                    "0": "45778",
                                    "1": "CEU7071394007",
                                    "2": "16.7",
                                    "3": "Average weekly hours of production and nonsupervisory employees",
                                    "4": "M01"
                                },
                                {
                                    "0": "30471",
                                    "1": "CES7071394007",
                                    "2": "17",
                                    "3": "Average weekly hours of production and nonsupervisory employees",
                                    "4": "M01"
                                },
                                {
                                    "0": "45490",
                                    "1": "CES7071394007",
                                    "2": "17",
                                    "3": "Average weekly hours of production and nonsupervisory employees",
                                    "4": "M01"
                                },
                                {
                                    "0": "4956",
                                    "1": "CEU4244814007",
                                    "2": "17.8",
                                    "3": "Average weekly hours of production and nonsupervisory employees",
                                    "4": "M01"
                                }
                            ]
                        },
                        "text/html": "<table><tr><th>id</th><th>series_id</th><th>value</th><th>series_title</th><th>period</th></tr><tr><td>43821</td><td>CEU7071394007</td><td>16.7</td><td>Average weekly hours of production and nonsupervisory employees</td><td>M01</td></tr><tr><td>45778</td><td>CEU7071394007</td><td>16.7</td><td>Average weekly hours of production and nonsupervisory employees</td><td>M01</td></tr><tr><td>30471</td><td>CES7071394007</td><td>17</td><td>Average weekly hours of production and nonsupervisory employees</td><td>M01</td></tr><tr><td>45490</td><td>CES7071394007</td><td>17</td><td>Average weekly hours of production and nonsupervisory employees</td><td>M01</td></tr><tr><td>4956</td><td>CEU4244814007</td><td>17.8</td><td>Average weekly hours of production and nonsupervisory employees</td><td>M01</td></tr></table>"
                    },
                    "metadata": {}
                }
            ],
            "execution_count": 129
        },
        {
            "cell_type": "code",
            "source": [
                "SELECT TOP 5 * FROM LaborStatisticsDB.dbo.industry AS ins\r\n",
                "LEFT JOIN LaborStatisticsDB.dbo.series AS s\r\n",
                "ON ins.industry_code = s.industry_code\r\n",
                "WHERE s.series_id like 'CES3133635007' OR s.series_id like 'CEU7071394007'\r\n",
                "\r\n",
                "-- lowest: Fitness and recreational sports centers\r\n",
                "--- highest: motor vehicle power train components\r\n",
                ""
            ],
            "metadata": {
                "azdata_cell_guid": "87a710b6-bcba-480a-96aa-104dacdb3ca5",
                "language": "sql",
                "tags": []
            },
            "outputs": [
                {
                    "output_type": "display_data",
                    "data": {
                        "text/html": "(2 rows affected)"
                    },
                    "metadata": {}
                },
                {
                    "output_type": "display_data",
                    "data": {
                        "text/html": "Total execution time: 00:00:00.423"
                    },
                    "metadata": {}
                },
                {
                    "output_type": "execute_result",
                    "execution_count": 130,
                    "data": {
                        "application/vnd.dataresource+json": {
                            "schema": {
                                "fields": [
                                    {
                                        "name": "id"
                                    },
                                    {
                                        "name": "industry_code"
                                    },
                                    {
                                        "name": "naics_code"
                                    },
                                    {
                                        "name": "publishing_status"
                                    },
                                    {
                                        "name": "industry_name"
                                    },
                                    {
                                        "name": "display_level"
                                    },
                                    {
                                        "name": "selectable"
                                    },
                                    {
                                        "name": "sort_sequence"
                                    },
                                    {
                                        "name": "series_id"
                                    },
                                    {
                                        "name": "supersector_code"
                                    },
                                    {
                                        "name": "industry_code"
                                    },
                                    {
                                        "name": "data_type_code"
                                    },
                                    {
                                        "name": "seasonal"
                                    },
                                    {
                                        "name": "series_title"
                                    }
                                ]
                            },
                            "data": [
                                {
                                    "0": "199",
                                    "1": "31336350",
                                    "2": "33635",
                                    "3": "HP",
                                    "4": "Motor vehicle power train components",
                                    "5": "6",
                                    "6": "T",
                                    "7": "200",
                                    "8": "CES3133635007",
                                    "9": "31",
                                    "10": "31336350",
                                    "11": "7",
                                    "12": "S",
                                    "13": "Average weekly hours of production and nonsupervisory employees"
                                },
                                {
                                    "0": "819",
                                    "1": "70713940",
                                    "2": "71394",
                                    "3": "A",
                                    "4": "Fitness and recreational sports centers",
                                    "5": "6",
                                    "6": "T",
                                    "7": "820",
                                    "8": "CEU7071394007",
                                    "9": "70",
                                    "10": "70713940",
                                    "11": "7",
                                    "12": "U",
                                    "13": "Average weekly hours of production and nonsupervisory employees"
                                }
                            ]
                        },
                        "text/html": "<table><tr><th>id</th><th>industry_code</th><th>naics_code</th><th>publishing_status</th><th>industry_name</th><th>display_level</th><th>selectable</th><th>sort_sequence</th><th>series_id</th><th>supersector_code</th><th>industry_code</th><th>data_type_code</th><th>seasonal</th><th>series_title</th></tr><tr><td>199</td><td>31336350</td><td>33635</td><td>HP</td><td>Motor vehicle power train components</td><td>6</td><td>T</td><td>200</td><td>CES3133635007</td><td>31</td><td>31336350</td><td>7</td><td>S</td><td>Average weekly hours of production and nonsupervisory employees</td></tr><tr><td>819</td><td>70713940</td><td>71394</td><td>A</td><td>Fitness and recreational sports centers</td><td>6</td><td>T</td><td>820</td><td>CEU7071394007</td><td>70</td><td>70713940</td><td>7</td><td>U</td><td>Average weekly hours of production and nonsupervisory employees</td></tr></table>"
                    },
                    "metadata": {}
                }
            ],
            "execution_count": 130
        },
        {
            "cell_type": "markdown",
            "source": [
                "7. <span style=\"background-color: rgb(255, 255, 255); font-size: 10pt; white-space: pre-wrap; color: rgb(102, 102, 102); font-family: Arvo, serif;\">In January 2021, which industry was the total weekly payroll for production and nonsupervisory employees the highest? Which industry was the lowest?</span>"
            ],
            "metadata": {
                "azdata_cell_guid": "a53f4113-60c6-46d1-b9a3-34610c61d4f9"
            },
            "attachments": {}
        },
        {
            "cell_type": "code",
            "source": [
                ""
            ],
            "metadata": {
                "azdata_cell_guid": "583695e6-7438-4e03-8970-1fe0c677a793",
                "language": "sql"
            },
            "outputs": [
                {
                    "output_type": "display_data",
                    "data": {
                        "text/html": "Commands completed successfully."
                    },
                    "metadata": {}
                },
                {
                    "output_type": "display_data",
                    "data": {
                        "text/html": "Total execution time: 00:00:00"
                    },
                    "metadata": {}
                }
            ],
            "execution_count": 80
        },
        {
            "cell_type": "markdown",
            "source": [
                "## <span style=\"font-size: 12pt; font-family: Montserrat, sans-serif; color: rgb(53, 74, 95); background-color: rgb(255, 255, 255); font-weight: 700; font-variant-numeric: normal; font-variant-east-asian: normal; vertical-align: baseline; white-space: pre-wrap;\">Subqueries, Unions, Derived Tables, Oh My!</span>\n",
                "\n",
                "1. <span style=\"background-color: rgb(255, 255, 255); font-size: 10pt; white-space: pre-wrap; color: rgb(102, 102, 102); font-family: Arvo, serif;\">Write a query that returns the series_id, industry_code, industry_name, and value from the january_2017 table but only if that value is greater than the average value for annual_2016 of data_type_code 82.</span>"
            ],
            "metadata": {
                "azdata_cell_guid": "e98ec195-5399-4718-83ef-54fb954662a5"
            },
            "attachments": {}
        },
        {
            "cell_type": "code",
            "source": [
                "SELECT TOP 5 AVG([value]) AS \"avg. value having dtc 82 (thousands)\" FROM LaborStatisticsDB.dbo.series AS s\r\n",
                "JOIN LaborStatisticsDB.dbo.annual_2016 AS a \r\n",
                "ON s.series_id = a.series_id\r\n",
                "GROUP BY data_type_code\r\n",
                "HAVING data_type_code = 82"
            ],
            "metadata": {
                "azdata_cell_guid": "66445f3e-e26d-40b4-ba17-e4d42debac6e",
                "language": "sql"
            },
            "outputs": [
                {
                    "output_type": "display_data",
                    "data": {
                        "text/html": "(1 row affected)"
                    },
                    "metadata": {}
                },
                {
                    "output_type": "display_data",
                    "data": {
                        "text/html": "Total execution time: 00:00:00.174"
                    },
                    "metadata": {}
                },
                {
                    "output_type": "execute_result",
                    "metadata": {},
                    "execution_count": 47,
                    "data": {
                        "application/vnd.dataresource+json": {
                            "schema": {
                                "fields": [
                                    {
                                        "name": "avg. value having dtc 82 (thousands)"
                                    }
                                ]
                            },
                            "data": [
                                {
                                    "0": "819960.3448275862"
                                }
                            ]
                        },
                        "text/html": [
                            "<table>",
                            "<tr><th>avg. value having dtc 82 (thousands)</th></tr>",
                            "<tr><td>819960.3448275862</td></tr>",
                            "</table>"
                        ]
                    }
                }
            ],
            "execution_count": 47
        },
        {
            "cell_type": "code",
            "source": [
                "\r\n",
                "SELECT TOP 5 s.series_id, ind.industry_code, ind.industry_name, j.[value] FROM LaborStatisticsDB.dbo.january_2017 AS j\r\n",
                "JOIN LaborStatisticsDB.dbo.series AS s \r\n",
                "ON j.series_id = s.series_id\r\n",
                "JOIN LaborStatisticsDB.dbo.industry AS ind\r\n",
                "ON j.series_id = s.series_id AND s.industry_code = ind.industry_code\r\n",
                "WHERE j.[value] > (SELECT TOP 5 AVG([value]) FROM LaborStatisticsDB.dbo.series AS s\r\n",
                "JOIN LaborStatisticsDB.dbo.annual_2016 AS a \r\n",
                "ON s.series_id = a.series_id\r\n",
                "GROUP BY data_type_code\r\n",
                "HAVING data_type_code = 82)\r\n",
                "\r\n",
                ""
            ],
            "metadata": {
                "azdata_cell_guid": "7c85f70b-528f-4cbd-bd8e-a6efab1c18df",
                "language": "sql",
                "tags": []
            },
            "outputs": [
                {
                    "output_type": "display_data",
                    "data": {
                        "text/html": "(5 rows affected)"
                    },
                    "metadata": {}
                },
                {
                    "output_type": "display_data",
                    "data": {
                        "text/html": "Total execution time: 00:00:00.206"
                    },
                    "metadata": {}
                },
                {
                    "output_type": "execute_result",
                    "metadata": {},
                    "execution_count": 16,
                    "data": {
                        "application/vnd.dataresource+json": {
                            "schema": {
                                "fields": [
                                    {
                                        "name": "series_id"
                                    },
                                    {
                                        "name": "industry_code"
                                    },
                                    {
                                        "name": "industry_name"
                                    },
                                    {
                                        "name": "value"
                                    }
                                ]
                            },
                            "data": [
                                {
                                    "0": "CES5500000082",
                                    "1": "55000000",
                                    "2": "Financial activities",
                                    "3": "6328968"
                                },
                                {
                                    "0": "CES5552200082",
                                    "1": "55522000",
                                    "2": "Credit intermediation and related activities",
                                    "3": "1717912"
                                },
                                {
                                    "0": "CES5552210082",
                                    "1": "55522100",
                                    "2": "Depository credit intermediation",
                                    "3": "971796"
                                },
                                {
                                    "0": "CES5552300082",
                                    "1": "55523000",
                                    "2": "NULL",
                                    "3": "1044224"
                                },
                                {
                                    "0": "CES5552400082",
                                    "1": "55524000",
                                    "2": "Insurance carriers and related activities",
                                    "3": "2347328"
                                }
                            ]
                        },
                        "text/html": [
                            "<table>",
                            "<tr><th>series_id</th><th>industry_code</th><th>industry_name</th><th>value</th></tr>",
                            "<tr><td>CES5500000082</td><td>55000000</td><td>Financial activities</td><td>6328968</td></tr>",
                            "<tr><td>CES5552200082</td><td>55522000</td><td>Credit intermediation and related activities</td><td>1717912</td></tr>",
                            "<tr><td>CES5552210082</td><td>55522100</td><td>Depository credit intermediation</td><td>971796</td></tr>",
                            "<tr><td>CES5552300082</td><td>55523000</td><td>NULL</td><td>1044224</td></tr>",
                            "<tr><td>CES5552400082</td><td>55524000</td><td>Insurance carriers and related activities</td><td>2347328</td></tr>",
                            "</table>"
                        ]
                    }
                }
            ],
            "execution_count": 16
        },
        {
            "cell_type": "markdown",
            "source": [
                "2. <span style=\"background-color: rgb(255, 255, 255); font-size: 10pt; white-space: pre-wrap; color: rgb(102, 102, 102); font-family: Arvo, serif;\">Create a Union table comparing average weekly earnings&nbsp; of production and nonsupervisory employees between annual_16 and january_17 using the data type 30.&nbsp; Round to the nearest penny.&nbsp; You should have a column for the average earnings and a column for the year, and the period.</span>"
            ],
            "metadata": {
                "azdata_cell_guid": "1bb0ed09-4b02-4132-910e-5903697628af"
            },
            "attachments": {}
        },
        {
            "cell_type": "code",
            "source": [
                "SELECT TOP 26 [value], year, [period] FROM LaborStatisticsDB.dbo.annual_2016\r\n",
                "WHERE series_id IN (\r\n",
                "    SELECT series_id FROM LaborStatisticsDB.dbo.series \r\n",
                "    WHERE data_type_code = 30)\r\n",
                "UNION \r\n",
                "SELECT TOP 26 [value], year, [period] FROM LaborStatisticsDB.dbo.january_2017\r\n",
                "WHERE series_id IN (\r\n",
                "    SELECT series_id FROM LaborStatisticsDB.dbo.series \r\n",
                "    WHERE data_type_code = 30)\r\n",
                "ORDER BY [value] DESC\r\n",
                "\r\n",
                ""
            ],
            "metadata": {
                "azdata_cell_guid": "0841b6d6-9af2-41ba-8e28-dc40d08bd061",
                "language": "sql"
            },
            "outputs": [
                {
                    "output_type": "display_data",
                    "data": {
                        "text/html": "(52 rows affected)"
                    },
                    "metadata": {}
                },
                {
                    "output_type": "display_data",
                    "data": {
                        "text/html": "Total execution time: 00:00:00.297"
                    },
                    "metadata": {}
                },
                {
                    "output_type": "execute_result",
                    "metadata": {},
                    "execution_count": 49,
                    "data": {
                        "application/vnd.dataresource+json": {
                            "schema": {
                                "fields": [
                                    {
                                        "name": "value"
                                    },
                                    {
                                        "name": "year"
                                    },
                                    {
                                        "name": "period"
                                    }
                                ]
                            },
                            "data": [
                                {
                                    "0": "1773.7",
                                    "1": "2017",
                                    "2": "M01"
                                },
                                {
                                    "0": "1699.97",
                                    "1": "2016",
                                    "2": "M13"
                                },
                                {
                                    "0": "1637.45",
                                    "1": "2016",
                                    "2": "M13"
                                },
                                {
                                    "0": "1603.07",
                                    "1": "2016",
                                    "2": "M13"
                                },
                                {
                                    "0": "1581.46",
                                    "1": "2017",
                                    "2": "M01"
                                },
                                {
                                    "0": "1560",
                                    "1": "2017",
                                    "2": "M01"
                                },
                                {
                                    "0": "1532.34",
                                    "1": "2016",
                                    "2": "M13"
                                },
                                {
                                    "0": "1491.35",
                                    "1": "2017",
                                    "2": "M01"
                                },
                                {
                                    "0": "1461.86",
                                    "1": "2016",
                                    "2": "M13"
                                },
                                {
                                    "0": "1412.75",
                                    "1": "2017",
                                    "2": "M01"
                                },
                                {
                                    "0": "1395.45",
                                    "1": "2017",
                                    "2": "M01"
                                },
                                {
                                    "0": "1354.48",
                                    "1": "2016",
                                    "2": "M13"
                                },
                                {
                                    "0": "1297.72",
                                    "1": "2016",
                                    "2": "M13"
                                },
                                {
                                    "0": "1268.78",
                                    "1": "2017",
                                    "2": "M01"
                                },
                                {
                                    "0": "1232.42",
                                    "1": "2016",
                                    "2": "M13"
                                },
                                {
                                    "0": "1232.22",
                                    "1": "2016",
                                    "2": "M13"
                                },
                                {
                                    "0": "1210.29",
                                    "1": "2016",
                                    "2": "M13"
                                },
                                {
                                    "0": "1207.71",
                                    "1": "2017",
                                    "2": "M01"
                                },
                                {
                                    "0": "1204.1",
                                    "1": "2017",
                                    "2": "M01"
                                },
                                {
                                    "0": "1186.69",
                                    "1": "2017",
                                    "2": "M01"
                                },
                                {
                                    "0": "1179.62",
                                    "1": "2017",
                                    "2": "M01"
                                },
                                {
                                    "0": "1177.63",
                                    "1": "2016",
                                    "2": "M13"
                                },
                                {
                                    "0": "1102.91",
                                    "1": "2016",
                                    "2": "M13"
                                },
                                {
                                    "0": "1102.45",
                                    "1": "2017",
                                    "2": "M01"
                                },
                                {
                                    "0": "1088.64",
                                    "1": "2017",
                                    "2": "M01"
                                },
                                {
                                    "0": "1065.23",
                                    "1": "2017",
                                    "2": "M01"
                                },
                                {
                                    "0": "1040.84",
                                    "1": "2016",
                                    "2": "M13"
                                },
                                {
                                    "0": "1021.38",
                                    "1": "2016",
                                    "2": "M13"
                                },
                                {
                                    "0": "1014.93",
                                    "1": "2017",
                                    "2": "M01"
                                },
                                {
                                    "0": "1010.79",
                                    "1": "2017",
                                    "2": "M01"
                                },
                                {
                                    "0": "1007.31",
                                    "1": "2016",
                                    "2": "M13"
                                },
                                {
                                    "0": "980.03",
                                    "1": "2016",
                                    "2": "M13"
                                },
                                {
                                    "0": "969.36",
                                    "1": "2017",
                                    "2": "M01"
                                },
                                {
                                    "0": "965.68",
                                    "1": "2017",
                                    "2": "M01"
                                },
                                {
                                    "0": "962.73",
                                    "1": "2016",
                                    "2": "M13"
                                },
                                {
                                    "0": "953.37",
                                    "1": "2016",
                                    "2": "M13"
                                },
                                {
                                    "0": "936.03",
                                    "1": "2017",
                                    "2": "M01"
                                },
                                {
                                    "0": "924.71",
                                    "1": "2017",
                                    "2": "M01"
                                },
                                {
                                    "0": "916.86",
                                    "1": "2016",
                                    "2": "M13"
                                },
                                {
                                    "0": "916.77",
                                    "1": "2016",
                                    "2": "M13"
                                },
                                {
                                    "0": "855.75",
                                    "1": "2017",
                                    "2": "M01"
                                },
                                {
                                    "0": "833.43",
                                    "1": "2016",
                                    "2": "M13"
                                },
                                {
                                    "0": "773.91",
                                    "1": "2017",
                                    "2": "M01"
                                },
                                {
                                    "0": "770.41",
                                    "1": "2017",
                                    "2": "M01"
                                },
                                {
                                    "0": "763.73",
                                    "1": "2017",
                                    "2": "M01"
                                },
                                {
                                    "0": "754.09",
                                    "1": "2016",
                                    "2": "M13"
                                },
                                {
                                    "0": "749.49",
                                    "1": "2016",
                                    "2": "M13"
                                },
                                {
                                    "0": "746.56",
                                    "1": "2016",
                                    "2": "M13"
                                },
                                {
                                    "0": "744.75",
                                    "1": "2017",
                                    "2": "M01"
                                },
                                {
                                    "0": "730.09",
                                    "1": "2016",
                                    "2": "M13"
                                },
                                {
                                    "0": "597.73",
                                    "1": "2016",
                                    "2": "M13"
                                },
                                {
                                    "0": "592.88",
                                    "1": "2017",
                                    "2": "M01"
                                }
                            ]
                        },
                        "text/html": [
                            "<table>",
                            "<tr><th>value</th><th>year</th><th>period</th></tr>",
                            "<tr><td>1773.7</td><td>2017</td><td>M01</td></tr>",
                            "<tr><td>1699.97</td><td>2016</td><td>M13</td></tr>",
                            "<tr><td>1637.45</td><td>2016</td><td>M13</td></tr>",
                            "<tr><td>1603.07</td><td>2016</td><td>M13</td></tr>",
                            "<tr><td>1581.46</td><td>2017</td><td>M01</td></tr>",
                            "<tr><td>1560</td><td>2017</td><td>M01</td></tr>",
                            "<tr><td>1532.34</td><td>2016</td><td>M13</td></tr>",
                            "<tr><td>1491.35</td><td>2017</td><td>M01</td></tr>",
                            "<tr><td>1461.86</td><td>2016</td><td>M13</td></tr>",
                            "<tr><td>1412.75</td><td>2017</td><td>M01</td></tr>",
                            "<tr><td>1395.45</td><td>2017</td><td>M01</td></tr>",
                            "<tr><td>1354.48</td><td>2016</td><td>M13</td></tr>",
                            "<tr><td>1297.72</td><td>2016</td><td>M13</td></tr>",
                            "<tr><td>1268.78</td><td>2017</td><td>M01</td></tr>",
                            "<tr><td>1232.42</td><td>2016</td><td>M13</td></tr>",
                            "<tr><td>1232.22</td><td>2016</td><td>M13</td></tr>",
                            "<tr><td>1210.29</td><td>2016</td><td>M13</td></tr>",
                            "<tr><td>1207.71</td><td>2017</td><td>M01</td></tr>",
                            "<tr><td>1204.1</td><td>2017</td><td>M01</td></tr>",
                            "<tr><td>1186.69</td><td>2017</td><td>M01</td></tr>",
                            "<tr><td>1179.62</td><td>2017</td><td>M01</td></tr>",
                            "<tr><td>1177.63</td><td>2016</td><td>M13</td></tr>",
                            "<tr><td>1102.91</td><td>2016</td><td>M13</td></tr>",
                            "<tr><td>1102.45</td><td>2017</td><td>M01</td></tr>",
                            "<tr><td>1088.64</td><td>2017</td><td>M01</td></tr>",
                            "<tr><td>1065.23</td><td>2017</td><td>M01</td></tr>",
                            "<tr><td>1040.84</td><td>2016</td><td>M13</td></tr>",
                            "<tr><td>1021.38</td><td>2016</td><td>M13</td></tr>",
                            "<tr><td>1014.93</td><td>2017</td><td>M01</td></tr>",
                            "<tr><td>1010.79</td><td>2017</td><td>M01</td></tr>",
                            "<tr><td>1007.31</td><td>2016</td><td>M13</td></tr>",
                            "<tr><td>980.03</td><td>2016</td><td>M13</td></tr>",
                            "<tr><td>969.36</td><td>2017</td><td>M01</td></tr>",
                            "<tr><td>965.68</td><td>2017</td><td>M01</td></tr>",
                            "<tr><td>962.73</td><td>2016</td><td>M13</td></tr>",
                            "<tr><td>953.37</td><td>2016</td><td>M13</td></tr>",
                            "<tr><td>936.03</td><td>2017</td><td>M01</td></tr>",
                            "<tr><td>924.71</td><td>2017</td><td>M01</td></tr>",
                            "<tr><td>916.86</td><td>2016</td><td>M13</td></tr>",
                            "<tr><td>916.77</td><td>2016</td><td>M13</td></tr>",
                            "<tr><td>855.75</td><td>2017</td><td>M01</td></tr>",
                            "<tr><td>833.43</td><td>2016</td><td>M13</td></tr>",
                            "<tr><td>773.91</td><td>2017</td><td>M01</td></tr>",
                            "<tr><td>770.41</td><td>2017</td><td>M01</td></tr>",
                            "<tr><td>763.73</td><td>2017</td><td>M01</td></tr>",
                            "<tr><td>754.09</td><td>2016</td><td>M13</td></tr>",
                            "<tr><td>749.49</td><td>2016</td><td>M13</td></tr>",
                            "<tr><td>746.56</td><td>2016</td><td>M13</td></tr>",
                            "<tr><td>744.75</td><td>2017</td><td>M01</td></tr>",
                            "<tr><td>730.09</td><td>2016</td><td>M13</td></tr>",
                            "<tr><td>597.73</td><td>2016</td><td>M13</td></tr>",
                            "<tr><td>592.88</td><td>2017</td><td>M01</td></tr>",
                            "</table>"
                        ]
                    }
                }
            ],
            "execution_count": 49
        },
        {
            "cell_type": "markdown",
            "source": [
                "## <span style=\"font-size:12pt;font-family:Montserrat, sans-serif;color:rgb(53, 74, 95);background-color:rgb(255, 255, 255);font-weight:700;vertical-align:baseline;white-space:pre-wrap;\">Summarize Your Results</span>\n",
                "\n",
                "<span style=\"font-size:10pt;font-family:Arvo, serif;color:rgb(102, 102, 102);background-color:rgb(255, 255, 255);vertical-align:baseline;white-space:pre-wrap;\">With what you know now about the </span> <span style=\"background-color:rgb(255, 255, 255);color:rgb(102, 102, 102);font-family:&quot;Times New Roman&quot;;font-size:13.3333px;white-space:pre-wrap;\">Bureau of Labor Statistics (BLS) Current Employment Survey (CES) results and working with the</span> <span style=\"color:rgb(102, 102, 102);white-space:pre-wrap;font-family:&quot;Times New Roman&quot;;font-size:13.3333px;\">Labor Statistics Database</span><span style=\"background-color:rgb(255, 255, 255);color:rgb(102, 102, 102);font-family:Arvo, serif;font-size:10pt;white-space:pre-wrap;\">, answer the following questions. Note that while this is subjective, you should include relevant data to back up your opinion.</span>\n",
                "\n",
                "1. <span style=\"background-color:rgb(255, 255, 255);font-size:10pt;white-space:pre-wrap;color:rgb(102, 102, 102);font-family:Arvo, serif;\">During which time period did production and nonsupervisory employees fare better?</span>"
            ],
            "metadata": {
                "azdata_cell_guid": "780f65a6-b9e7-4f24-9132-293c47f559e8"
            },
            "attachments": {}
        },
        {
            "cell_type": "markdown",
            "source": [
                "Double click here to add your answer"
            ],
            "metadata": {
                "azdata_cell_guid": "f11f1fb2-f7d1-41e5-bc9c-84087d7cfc93"
            },
            "attachments": {}
        },
        {
            "cell_type": "markdown",
            "source": [
                "2. <span style=\"background-color: rgb(255, 255, 255); font-size: 10pt; white-space: pre-wrap; color: rgb(102, 102, 102); font-family: Arvo, serif;\">In which industries did production and nonsupervisory employees fare better?</span>"
            ],
            "metadata": {
                "azdata_cell_guid": "f606e5e5-f6f1-4070-bbfa-e31617b43e56"
            },
            "attachments": {}
        },
        {
            "cell_type": "markdown",
            "source": [
                "Double click here to add your answer."
            ],
            "metadata": {
                "azdata_cell_guid": "94e18f5d-b87b-4ba6-b1fd-bde035dafc04"
            },
            "attachments": {}
        },
        {
            "cell_type": "markdown",
            "source": [
                "3. <span style=\"font-size: 10pt; font-family: Arvo, serif; color: rgb(102, 102, 102); background-color: rgb(255, 255, 255); font-variant-numeric: normal; font-variant-east-asian: normal; vertical-align: baseline; white-space: pre-wrap;\">Now that you have explored the datasets, is there any data or information that you wish you had in this analysis?</span>"
            ],
            "metadata": {
                "azdata_cell_guid": "101e4449-601a-46c6-b217-23f3339cfa76"
            },
            "attachments": {}
        },
        {
            "cell_type": "markdown",
            "source": [
                "Double click here to add your answer."
            ],
            "metadata": {
                "azdata_cell_guid": "d07e9180-f5e0-49b4-b395-2c6c8a5f8aac"
            },
            "attachments": {}
        }
    ]
}